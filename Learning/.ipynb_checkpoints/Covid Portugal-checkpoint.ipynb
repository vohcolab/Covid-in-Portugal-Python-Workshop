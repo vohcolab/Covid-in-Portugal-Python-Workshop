{
 "cells": [
  {
   "cell_type": "markdown",
   "metadata": {},
   "source": [
    "## A deeper look into Covid in Portugal\n",
    "\n",
    "We are interested in analysing Covid data in portugal, understand the evolution of confirmed and active cases, as well as deaths, vaccinations, and much more. To do that we are going to use the data from this [github repository](https://github.com/dssg-pt/covid19pt-data), that collects _all_ of the data covid-wise in Portugal.\n"
   ]
  },
  {
   "cell_type": "markdown",
   "metadata": {},
   "source": [
    "![Image of meme](https://static.thehoneycombers.com/wp-content/uploads/sites/4/2020/03/Best-funny-Coronavirus-memes-2020-Honeycombers-Bali-6.jpg)\n"
   ]
  },
  {
   "cell_type": "markdown",
   "metadata": {},
   "source": [
    "First lets take a quick glance at the data."
   ]
  },
  {
   "cell_type": "markdown",
   "metadata": {},
   "source": [
    "### Preliminaries\n",
    "\n",
    "We are going to use Python and one of its most known libraries, [pandas](https://pandas.pydata.org/), to explore and analyse this Covid data."
   ]
  },
  {
   "cell_type": "markdown",
   "metadata": {},
   "source": [
    "1. Python is a programming language, i.e you can do pretty much whatever with it. (Data Science, Games, Web and Mobile apps)\n",
    "2. This is a jupyter notebook (one of the more typical ways to explore data)\n"
   ]
  },
  {
   "cell_type": "markdown",
   "metadata": {},
   "source": [
    "### Initial Setup\n",
    "\n",
    "Here we are importing libraries (code made by someone else) to agilize our exploration."
   ]
  },
  {
   "cell_type": "code",
   "execution_count": 2,
   "metadata": {},
   "outputs": [],
   "source": [
    "import pandas as pd #Pandas\n",
    "import matplotlib.pyplot as plt #Help us to create plots."
   ]
  },
  {
   "cell_type": "markdown",
   "metadata": {},
   "source": [
    "First things first, we need to import the data from the github repository. They have several files, but for now we are only going to get **\"data.csv\"**"
   ]
  },
  {
   "cell_type": "code",
   "execution_count": 13,
   "metadata": {},
   "outputs": [
    {
     "data": {
      "text/html": [
       "<div>\n",
       "<style scoped>\n",
       "    .dataframe tbody tr th:only-of-type {\n",
       "        vertical-align: middle;\n",
       "    }\n",
       "\n",
       "    .dataframe tbody tr th {\n",
       "        vertical-align: top;\n",
       "    }\n",
       "\n",
       "    .dataframe thead th {\n",
       "        text-align: right;\n",
       "    }\n",
       "</style>\n",
       "<table border=\"1\" class=\"dataframe\">\n",
       "  <thead>\n",
       "    <tr style=\"text-align: right;\">\n",
       "      <th></th>\n",
       "      <th>data</th>\n",
       "      <th>data_dados</th>\n",
       "      <th>confirmados</th>\n",
       "      <th>confirmados_arsnorte</th>\n",
       "      <th>confirmados_arscentro</th>\n",
       "      <th>confirmados_arslvt</th>\n",
       "      <th>confirmados_arsalentejo</th>\n",
       "      <th>confirmados_arsalgarve</th>\n",
       "      <th>confirmados_acores</th>\n",
       "      <th>confirmados_madeira</th>\n",
       "      <th>...</th>\n",
       "      <th>obitos_m</th>\n",
       "      <th>confirmados_desconhecidos_m</th>\n",
       "      <th>confirmados_desconhecidos_f</th>\n",
       "      <th>ativos</th>\n",
       "      <th>internados_enfermaria</th>\n",
       "      <th>confirmados_desconhecidos</th>\n",
       "      <th>incidencia_nacional</th>\n",
       "      <th>incidencia_continente</th>\n",
       "      <th>rt_nacional</th>\n",
       "      <th>rt_continente</th>\n",
       "    </tr>\n",
       "  </thead>\n",
       "  <tbody>\n",
       "    <tr>\n",
       "      <th>0</th>\n",
       "      <td>26-02-2020</td>\n",
       "      <td>26-02-2020 00:00</td>\n",
       "      <td>0</td>\n",
       "      <td>0</td>\n",
       "      <td>0</td>\n",
       "      <td>0</td>\n",
       "      <td>0</td>\n",
       "      <td>0</td>\n",
       "      <td>0</td>\n",
       "      <td>0</td>\n",
       "      <td>...</td>\n",
       "      <td>NaN</td>\n",
       "      <td>NaN</td>\n",
       "      <td>NaN</td>\n",
       "      <td>NaN</td>\n",
       "      <td>NaN</td>\n",
       "      <td>NaN</td>\n",
       "      <td>NaN</td>\n",
       "      <td>NaN</td>\n",
       "      <td>NaN</td>\n",
       "      <td>NaN</td>\n",
       "    </tr>\n",
       "    <tr>\n",
       "      <th>1</th>\n",
       "      <td>27-02-2020</td>\n",
       "      <td>27-02-2020 00:00</td>\n",
       "      <td>0</td>\n",
       "      <td>0</td>\n",
       "      <td>0</td>\n",
       "      <td>0</td>\n",
       "      <td>0</td>\n",
       "      <td>0</td>\n",
       "      <td>0</td>\n",
       "      <td>0</td>\n",
       "      <td>...</td>\n",
       "      <td>NaN</td>\n",
       "      <td>NaN</td>\n",
       "      <td>NaN</td>\n",
       "      <td>NaN</td>\n",
       "      <td>NaN</td>\n",
       "      <td>NaN</td>\n",
       "      <td>NaN</td>\n",
       "      <td>NaN</td>\n",
       "      <td>NaN</td>\n",
       "      <td>NaN</td>\n",
       "    </tr>\n",
       "    <tr>\n",
       "      <th>2</th>\n",
       "      <td>28-02-2020</td>\n",
       "      <td>28-02-2020 00:00</td>\n",
       "      <td>0</td>\n",
       "      <td>0</td>\n",
       "      <td>0</td>\n",
       "      <td>0</td>\n",
       "      <td>0</td>\n",
       "      <td>0</td>\n",
       "      <td>0</td>\n",
       "      <td>0</td>\n",
       "      <td>...</td>\n",
       "      <td>NaN</td>\n",
       "      <td>NaN</td>\n",
       "      <td>NaN</td>\n",
       "      <td>NaN</td>\n",
       "      <td>NaN</td>\n",
       "      <td>NaN</td>\n",
       "      <td>NaN</td>\n",
       "      <td>NaN</td>\n",
       "      <td>NaN</td>\n",
       "      <td>NaN</td>\n",
       "    </tr>\n",
       "    <tr>\n",
       "      <th>3</th>\n",
       "      <td>29-02-2020</td>\n",
       "      <td>29-02-2020 00:00</td>\n",
       "      <td>0</td>\n",
       "      <td>0</td>\n",
       "      <td>0</td>\n",
       "      <td>0</td>\n",
       "      <td>0</td>\n",
       "      <td>0</td>\n",
       "      <td>0</td>\n",
       "      <td>0</td>\n",
       "      <td>...</td>\n",
       "      <td>NaN</td>\n",
       "      <td>NaN</td>\n",
       "      <td>NaN</td>\n",
       "      <td>NaN</td>\n",
       "      <td>NaN</td>\n",
       "      <td>NaN</td>\n",
       "      <td>NaN</td>\n",
       "      <td>NaN</td>\n",
       "      <td>NaN</td>\n",
       "      <td>NaN</td>\n",
       "    </tr>\n",
       "    <tr>\n",
       "      <th>4</th>\n",
       "      <td>01-03-2020</td>\n",
       "      <td>01-03-2020 00:00</td>\n",
       "      <td>0</td>\n",
       "      <td>0</td>\n",
       "      <td>0</td>\n",
       "      <td>0</td>\n",
       "      <td>0</td>\n",
       "      <td>0</td>\n",
       "      <td>0</td>\n",
       "      <td>0</td>\n",
       "      <td>...</td>\n",
       "      <td>NaN</td>\n",
       "      <td>NaN</td>\n",
       "      <td>NaN</td>\n",
       "      <td>NaN</td>\n",
       "      <td>NaN</td>\n",
       "      <td>NaN</td>\n",
       "      <td>NaN</td>\n",
       "      <td>NaN</td>\n",
       "      <td>NaN</td>\n",
       "      <td>NaN</td>\n",
       "    </tr>\n",
       "    <tr>\n",
       "      <th>...</th>\n",
       "      <td>...</td>\n",
       "      <td>...</td>\n",
       "      <td>...</td>\n",
       "      <td>...</td>\n",
       "      <td>...</td>\n",
       "      <td>...</td>\n",
       "      <td>...</td>\n",
       "      <td>...</td>\n",
       "      <td>...</td>\n",
       "      <td>...</td>\n",
       "      <td>...</td>\n",
       "      <td>...</td>\n",
       "      <td>...</td>\n",
       "      <td>...</td>\n",
       "      <td>...</td>\n",
       "      <td>...</td>\n",
       "      <td>...</td>\n",
       "      <td>...</td>\n",
       "      <td>...</td>\n",
       "      <td>...</td>\n",
       "      <td>...</td>\n",
       "    </tr>\n",
       "    <tr>\n",
       "      <th>470</th>\n",
       "      <td>10-06-2021</td>\n",
       "      <td>10-06-2021 00:00</td>\n",
       "      <td>855432</td>\n",
       "      <td>341921</td>\n",
       "      <td>120348</td>\n",
       "      <td>324807</td>\n",
       "      <td>30378</td>\n",
       "      <td>22536</td>\n",
       "      <td>5666</td>\n",
       "      <td>9776</td>\n",
       "      <td>...</td>\n",
       "      <td>8951.0</td>\n",
       "      <td>NaN</td>\n",
       "      <td>NaN</td>\n",
       "      <td>24366.0</td>\n",
       "      <td>223.0</td>\n",
       "      <td>391.0</td>\n",
       "      <td>74.8</td>\n",
       "      <td>73.6</td>\n",
       "      <td>1.05</td>\n",
       "      <td>1.07</td>\n",
       "    </tr>\n",
       "    <tr>\n",
       "      <th>471</th>\n",
       "      <td>11-06-2021</td>\n",
       "      <td>11-06-2021 00:00</td>\n",
       "      <td>855951</td>\n",
       "      <td>342069</td>\n",
       "      <td>120369</td>\n",
       "      <td>325081</td>\n",
       "      <td>30398</td>\n",
       "      <td>22558</td>\n",
       "      <td>5703</td>\n",
       "      <td>9773</td>\n",
       "      <td>...</td>\n",
       "      <td>8951.0</td>\n",
       "      <td>NaN</td>\n",
       "      <td>NaN</td>\n",
       "      <td>24589.0</td>\n",
       "      <td>234.0</td>\n",
       "      <td>399.0</td>\n",
       "      <td>79.3</td>\n",
       "      <td>78.4</td>\n",
       "      <td>1.07</td>\n",
       "      <td>1.08</td>\n",
       "    </tr>\n",
       "    <tr>\n",
       "      <th>472</th>\n",
       "      <td>12-06-2021</td>\n",
       "      <td>12-06-2021 00:00</td>\n",
       "      <td>856740</td>\n",
       "      <td>342223</td>\n",
       "      <td>120431</td>\n",
       "      <td>325561</td>\n",
       "      <td>30412</td>\n",
       "      <td>22583</td>\n",
       "      <td>5747</td>\n",
       "      <td>9783</td>\n",
       "      <td>...</td>\n",
       "      <td>8951.0</td>\n",
       "      <td>NaN</td>\n",
       "      <td>NaN</td>\n",
       "      <td>24601.0</td>\n",
       "      <td>223.0</td>\n",
       "      <td>396.0</td>\n",
       "      <td>79.3</td>\n",
       "      <td>78.4</td>\n",
       "      <td>1.07</td>\n",
       "      <td>1.08</td>\n",
       "    </tr>\n",
       "    <tr>\n",
       "      <th>473</th>\n",
       "      <td>13-06-2021</td>\n",
       "      <td>13-06-2021 00:00</td>\n",
       "      <td>857447</td>\n",
       "      <td>342340</td>\n",
       "      <td>120489</td>\n",
       "      <td>326011</td>\n",
       "      <td>30428</td>\n",
       "      <td>22619</td>\n",
       "      <td>5774</td>\n",
       "      <td>9786</td>\n",
       "      <td>...</td>\n",
       "      <td>8952.0</td>\n",
       "      <td>NaN</td>\n",
       "      <td>NaN</td>\n",
       "      <td>25058.0</td>\n",
       "      <td>243.0</td>\n",
       "      <td>400.0</td>\n",
       "      <td>79.3</td>\n",
       "      <td>78.4</td>\n",
       "      <td>1.07</td>\n",
       "      <td>1.08</td>\n",
       "    </tr>\n",
       "    <tr>\n",
       "      <th>474</th>\n",
       "      <td>14-06-2021</td>\n",
       "      <td>14-06-2021 00:00</td>\n",
       "      <td>858072</td>\n",
       "      <td>342464</td>\n",
       "      <td>120517</td>\n",
       "      <td>326412</td>\n",
       "      <td>30438</td>\n",
       "      <td>22653</td>\n",
       "      <td>5799</td>\n",
       "      <td>9789</td>\n",
       "      <td>...</td>\n",
       "      <td>8952.0</td>\n",
       "      <td>NaN</td>\n",
       "      <td>NaN</td>\n",
       "      <td>25403.0</td>\n",
       "      <td>263.0</td>\n",
       "      <td>407.0</td>\n",
       "      <td>84.5</td>\n",
       "      <td>83.4</td>\n",
       "      <td>1.09</td>\n",
       "      <td>1.10</td>\n",
       "    </tr>\n",
       "  </tbody>\n",
       "</table>\n",
       "<p>475 rows × 93 columns</p>\n",
       "</div>"
      ],
      "text/plain": [
       "           data        data_dados  confirmados  confirmados_arsnorte  \\\n",
       "0    26-02-2020  26-02-2020 00:00            0                     0   \n",
       "1    27-02-2020  27-02-2020 00:00            0                     0   \n",
       "2    28-02-2020  28-02-2020 00:00            0                     0   \n",
       "3    29-02-2020  29-02-2020 00:00            0                     0   \n",
       "4    01-03-2020  01-03-2020 00:00            0                     0   \n",
       "..          ...               ...          ...                   ...   \n",
       "470  10-06-2021  10-06-2021 00:00       855432                341921   \n",
       "471  11-06-2021  11-06-2021 00:00       855951                342069   \n",
       "472  12-06-2021  12-06-2021 00:00       856740                342223   \n",
       "473  13-06-2021  13-06-2021 00:00       857447                342340   \n",
       "474  14-06-2021  14-06-2021 00:00       858072                342464   \n",
       "\n",
       "     confirmados_arscentro  confirmados_arslvt  confirmados_arsalentejo  \\\n",
       "0                        0                   0                        0   \n",
       "1                        0                   0                        0   \n",
       "2                        0                   0                        0   \n",
       "3                        0                   0                        0   \n",
       "4                        0                   0                        0   \n",
       "..                     ...                 ...                      ...   \n",
       "470                 120348              324807                    30378   \n",
       "471                 120369              325081                    30398   \n",
       "472                 120431              325561                    30412   \n",
       "473                 120489              326011                    30428   \n",
       "474                 120517              326412                    30438   \n",
       "\n",
       "     confirmados_arsalgarve  confirmados_acores  confirmados_madeira  ...  \\\n",
       "0                         0                   0                    0  ...   \n",
       "1                         0                   0                    0  ...   \n",
       "2                         0                   0                    0  ...   \n",
       "3                         0                   0                    0  ...   \n",
       "4                         0                   0                    0  ...   \n",
       "..                      ...                 ...                  ...  ...   \n",
       "470                   22536                5666                 9776  ...   \n",
       "471                   22558                5703                 9773  ...   \n",
       "472                   22583                5747                 9783  ...   \n",
       "473                   22619                5774                 9786  ...   \n",
       "474                   22653                5799                 9789  ...   \n",
       "\n",
       "     obitos_m  confirmados_desconhecidos_m  confirmados_desconhecidos_f  \\\n",
       "0         NaN                          NaN                          NaN   \n",
       "1         NaN                          NaN                          NaN   \n",
       "2         NaN                          NaN                          NaN   \n",
       "3         NaN                          NaN                          NaN   \n",
       "4         NaN                          NaN                          NaN   \n",
       "..        ...                          ...                          ...   \n",
       "470    8951.0                          NaN                          NaN   \n",
       "471    8951.0                          NaN                          NaN   \n",
       "472    8951.0                          NaN                          NaN   \n",
       "473    8952.0                          NaN                          NaN   \n",
       "474    8952.0                          NaN                          NaN   \n",
       "\n",
       "      ativos  internados_enfermaria  confirmados_desconhecidos  \\\n",
       "0        NaN                    NaN                        NaN   \n",
       "1        NaN                    NaN                        NaN   \n",
       "2        NaN                    NaN                        NaN   \n",
       "3        NaN                    NaN                        NaN   \n",
       "4        NaN                    NaN                        NaN   \n",
       "..       ...                    ...                        ...   \n",
       "470  24366.0                  223.0                      391.0   \n",
       "471  24589.0                  234.0                      399.0   \n",
       "472  24601.0                  223.0                      396.0   \n",
       "473  25058.0                  243.0                      400.0   \n",
       "474  25403.0                  263.0                      407.0   \n",
       "\n",
       "     incidencia_nacional  incidencia_continente  rt_nacional  rt_continente  \n",
       "0                    NaN                    NaN          NaN            NaN  \n",
       "1                    NaN                    NaN          NaN            NaN  \n",
       "2                    NaN                    NaN          NaN            NaN  \n",
       "3                    NaN                    NaN          NaN            NaN  \n",
       "4                    NaN                    NaN          NaN            NaN  \n",
       "..                   ...                    ...          ...            ...  \n",
       "470                 74.8                   73.6         1.05           1.07  \n",
       "471                 79.3                   78.4         1.07           1.08  \n",
       "472                 79.3                   78.4         1.07           1.08  \n",
       "473                 79.3                   78.4         1.07           1.08  \n",
       "474                 84.5                   83.4         1.09           1.10  \n",
       "\n",
       "[475 rows x 93 columns]"
      ]
     },
     "execution_count": 13,
     "metadata": {},
     "output_type": "execute_result"
    }
   ],
   "source": [
    "covid_data = 'https://raw.githubusercontent.com/dssg-pt/covid19pt-data/master/data.csv'\n",
    "df = pd.read_csv(covid_data)\n",
    "df"
   ]
  },
  {
   "cell_type": "markdown",
   "metadata": {},
   "source": [
    "Now that we have the data, lets just explore it. "
   ]
  },
  {
   "cell_type": "code",
   "execution_count": null,
   "metadata": {},
   "outputs": [],
   "source": [
    "df.head()"
   ]
  },
  {
   "cell_type": "code",
   "execution_count": null,
   "metadata": {},
   "outputs": [],
   "source": [
    "df.tail()"
   ]
  },
  {
   "cell_type": "code",
   "execution_count": null,
   "metadata": {},
   "outputs": [],
   "source": [
    "df.columns"
   ]
  },
  {
   "cell_type": "code",
   "execution_count": null,
   "metadata": {},
   "outputs": [],
   "source": [
    "#what if\n",
    "#data[\"...\"]"
   ]
  },
  {
   "cell_type": "markdown",
   "metadata": {},
   "source": [
    "What about doing a quick visualization of 'confirmados' and 'activos' ? \n",
    "\n",
    "Hmm, idk that looks difficult."
   ]
  },
  {
   "cell_type": "code",
   "execution_count": null,
   "metadata": {},
   "outputs": [],
   "source": [
    "df[\"confirmados_novos\"].plot()"
   ]
  },
  {
   "cell_type": "code",
   "execution_count": null,
   "metadata": {},
   "outputs": [],
   "source": [
    "df[\"ativos\"].plot()"
   ]
  },
  {
   "cell_type": "markdown",
   "metadata": {},
   "source": [
    "The x axis should be dates right? What's going on? Lets look at the data again"
   ]
  },
  {
   "cell_type": "code",
   "execution_count": null,
   "metadata": {},
   "outputs": [],
   "source": [
    "df.head()"
   ]
  },
  {
   "cell_type": "code",
   "execution_count": null,
   "metadata": {},
   "outputs": [],
   "source": []
  },
  {
   "cell_type": "markdown",
   "metadata": {},
   "source": [
    "The x axis should be 'data' or 'data_dados' right? However, in the plot the x are just numeric values starting in 0 going hover 400. Can you figure out why ?"
   ]
  },
  {
   "cell_type": "code",
   "execution_count": 14,
   "metadata": {},
   "outputs": [],
   "source": [
    "date_parser = lambda date_str: pd.to_datetime(date_str,format='%d-%m-%Y')"
   ]
  },
  {
   "cell_type": "code",
   "execution_count": 34,
   "metadata": {},
   "outputs": [],
   "source": [
    "df = pd.read_csv(covid_data,index_col=0,date_parser=date_parser)"
   ]
  },
  {
   "cell_type": "markdown",
   "metadata": {},
   "source": [
    "### New syntax alert! \n",
    "*lambda* is used to define functions as an alternative to the _def_ keyword"
   ]
  },
  {
   "cell_type": "code",
   "execution_count": 33,
   "metadata": {},
   "outputs": [],
   "source": [
    "#alternative way more 'common' way\n",
    "def date_parser(date_str):\n",
    "    return pd.to_datetime(date_str,format='%d-%m-%Y')"
   ]
  },
  {
   "cell_type": "code",
   "execution_count": 36,
   "metadata": {},
   "outputs": [
    {
     "data": {
      "text/html": [
       "<div>\n",
       "<style scoped>\n",
       "    .dataframe tbody tr th:only-of-type {\n",
       "        vertical-align: middle;\n",
       "    }\n",
       "\n",
       "    .dataframe tbody tr th {\n",
       "        vertical-align: top;\n",
       "    }\n",
       "\n",
       "    .dataframe thead th {\n",
       "        text-align: right;\n",
       "    }\n",
       "</style>\n",
       "<table border=\"1\" class=\"dataframe\">\n",
       "  <thead>\n",
       "    <tr style=\"text-align: right;\">\n",
       "      <th></th>\n",
       "      <th>doses</th>\n",
       "      <th>doses_novas</th>\n",
       "      <th>doses1</th>\n",
       "      <th>doses1_novas</th>\n",
       "      <th>doses2</th>\n",
       "      <th>doses2_novas</th>\n",
       "      <th>pessoas_vacinadas_completamente</th>\n",
       "      <th>pessoas_vacinadas_completamente_novas</th>\n",
       "      <th>pessoas_vacinadas_parcialmente</th>\n",
       "      <th>pessoas_vacinadas_parcialmente_novas</th>\n",
       "    </tr>\n",
       "    <tr>\n",
       "      <th>data</th>\n",
       "      <th></th>\n",
       "      <th></th>\n",
       "      <th></th>\n",
       "      <th></th>\n",
       "      <th></th>\n",
       "      <th></th>\n",
       "      <th></th>\n",
       "      <th></th>\n",
       "      <th></th>\n",
       "      <th></th>\n",
       "    </tr>\n",
       "  </thead>\n",
       "  <tbody>\n",
       "    <tr>\n",
       "      <th>2020-12-27</th>\n",
       "      <td>4963.0</td>\n",
       "      <td>4963.0</td>\n",
       "      <td>4963.0</td>\n",
       "      <td>4963.0</td>\n",
       "      <td>0.0</td>\n",
       "      <td>0.0</td>\n",
       "      <td>0.0</td>\n",
       "      <td>0.0</td>\n",
       "      <td>4963.0</td>\n",
       "      <td>4963.0</td>\n",
       "    </tr>\n",
       "    <tr>\n",
       "      <th>2020-12-28</th>\n",
       "      <td>7754.0</td>\n",
       "      <td>2791.0</td>\n",
       "      <td>7754.0</td>\n",
       "      <td>2791.0</td>\n",
       "      <td>0.0</td>\n",
       "      <td>0.0</td>\n",
       "      <td>0.0</td>\n",
       "      <td>0.0</td>\n",
       "      <td>7754.0</td>\n",
       "      <td>2791.0</td>\n",
       "    </tr>\n",
       "    <tr>\n",
       "      <th>2020-12-29</th>\n",
       "      <td>20368.0</td>\n",
       "      <td>12614.0</td>\n",
       "      <td>20368.0</td>\n",
       "      <td>12614.0</td>\n",
       "      <td>0.0</td>\n",
       "      <td>0.0</td>\n",
       "      <td>0.0</td>\n",
       "      <td>0.0</td>\n",
       "      <td>20368.0</td>\n",
       "      <td>12614.0</td>\n",
       "    </tr>\n",
       "    <tr>\n",
       "      <th>2020-12-30</th>\n",
       "      <td>30543.0</td>\n",
       "      <td>10175.0</td>\n",
       "      <td>30543.0</td>\n",
       "      <td>10175.0</td>\n",
       "      <td>0.0</td>\n",
       "      <td>0.0</td>\n",
       "      <td>0.0</td>\n",
       "      <td>0.0</td>\n",
       "      <td>30543.0</td>\n",
       "      <td>10175.0</td>\n",
       "    </tr>\n",
       "    <tr>\n",
       "      <th>2020-12-31</th>\n",
       "      <td>32749.0</td>\n",
       "      <td>2206.0</td>\n",
       "      <td>32749.0</td>\n",
       "      <td>2206.0</td>\n",
       "      <td>0.0</td>\n",
       "      <td>0.0</td>\n",
       "      <td>0.0</td>\n",
       "      <td>0.0</td>\n",
       "      <td>32749.0</td>\n",
       "      <td>2206.0</td>\n",
       "    </tr>\n",
       "    <tr>\n",
       "      <th>...</th>\n",
       "      <td>...</td>\n",
       "      <td>...</td>\n",
       "      <td>...</td>\n",
       "      <td>...</td>\n",
       "      <td>...</td>\n",
       "      <td>...</td>\n",
       "      <td>...</td>\n",
       "      <td>...</td>\n",
       "      <td>...</td>\n",
       "      <td>...</td>\n",
       "    </tr>\n",
       "    <tr>\n",
       "      <th>2021-06-10</th>\n",
       "      <td>6305180.0</td>\n",
       "      <td>99317.0</td>\n",
       "      <td>4138665.0</td>\n",
       "      <td>65377.0</td>\n",
       "      <td>2166515.0</td>\n",
       "      <td>33940.0</td>\n",
       "      <td>2166515.0</td>\n",
       "      <td>33940.0</td>\n",
       "      <td>1972150.0</td>\n",
       "      <td>31437.0</td>\n",
       "    </tr>\n",
       "    <tr>\n",
       "      <th>2021-06-11</th>\n",
       "      <td>6417569.0</td>\n",
       "      <td>112389.0</td>\n",
       "      <td>4212783.0</td>\n",
       "      <td>74118.0</td>\n",
       "      <td>2204786.0</td>\n",
       "      <td>38271.0</td>\n",
       "      <td>2204786.0</td>\n",
       "      <td>38271.0</td>\n",
       "      <td>2007997.0</td>\n",
       "      <td>35847.0</td>\n",
       "    </tr>\n",
       "    <tr>\n",
       "      <th>2021-06-12</th>\n",
       "      <td>6474013.0</td>\n",
       "      <td>56444.0</td>\n",
       "      <td>4243537.0</td>\n",
       "      <td>30754.0</td>\n",
       "      <td>2230476.0</td>\n",
       "      <td>25690.0</td>\n",
       "      <td>2230476.0</td>\n",
       "      <td>25690.0</td>\n",
       "      <td>2013061.0</td>\n",
       "      <td>5064.0</td>\n",
       "    </tr>\n",
       "    <tr>\n",
       "      <th>2021-06-13</th>\n",
       "      <td>6545036.0</td>\n",
       "      <td>71023.0</td>\n",
       "      <td>4308544.0</td>\n",
       "      <td>65007.0</td>\n",
       "      <td>2236492.0</td>\n",
       "      <td>6016.0</td>\n",
       "      <td>2236492.0</td>\n",
       "      <td>6016.0</td>\n",
       "      <td>2072052.0</td>\n",
       "      <td>58991.0</td>\n",
       "    </tr>\n",
       "    <tr>\n",
       "      <th>2021-06-14</th>\n",
       "      <td>6572806.0</td>\n",
       "      <td>27770.0</td>\n",
       "      <td>4330244.0</td>\n",
       "      <td>21700.0</td>\n",
       "      <td>2242562.0</td>\n",
       "      <td>6070.0</td>\n",
       "      <td>2242562.0</td>\n",
       "      <td>6070.0</td>\n",
       "      <td>2087682.0</td>\n",
       "      <td>15630.0</td>\n",
       "    </tr>\n",
       "  </tbody>\n",
       "</table>\n",
       "<p>170 rows × 10 columns</p>\n",
       "</div>"
      ],
      "text/plain": [
       "                doses  doses_novas     doses1  doses1_novas     doses2  \\\n",
       "data                                                                     \n",
       "2020-12-27     4963.0       4963.0     4963.0        4963.0        0.0   \n",
       "2020-12-28     7754.0       2791.0     7754.0        2791.0        0.0   \n",
       "2020-12-29    20368.0      12614.0    20368.0       12614.0        0.0   \n",
       "2020-12-30    30543.0      10175.0    30543.0       10175.0        0.0   \n",
       "2020-12-31    32749.0       2206.0    32749.0        2206.0        0.0   \n",
       "...               ...          ...        ...           ...        ...   \n",
       "2021-06-10  6305180.0      99317.0  4138665.0       65377.0  2166515.0   \n",
       "2021-06-11  6417569.0     112389.0  4212783.0       74118.0  2204786.0   \n",
       "2021-06-12  6474013.0      56444.0  4243537.0       30754.0  2230476.0   \n",
       "2021-06-13  6545036.0      71023.0  4308544.0       65007.0  2236492.0   \n",
       "2021-06-14  6572806.0      27770.0  4330244.0       21700.0  2242562.0   \n",
       "\n",
       "            doses2_novas  pessoas_vacinadas_completamente  \\\n",
       "data                                                        \n",
       "2020-12-27           0.0                              0.0   \n",
       "2020-12-28           0.0                              0.0   \n",
       "2020-12-29           0.0                              0.0   \n",
       "2020-12-30           0.0                              0.0   \n",
       "2020-12-31           0.0                              0.0   \n",
       "...                  ...                              ...   \n",
       "2021-06-10       33940.0                        2166515.0   \n",
       "2021-06-11       38271.0                        2204786.0   \n",
       "2021-06-12       25690.0                        2230476.0   \n",
       "2021-06-13        6016.0                        2236492.0   \n",
       "2021-06-14        6070.0                        2242562.0   \n",
       "\n",
       "            pessoas_vacinadas_completamente_novas  \\\n",
       "data                                                \n",
       "2020-12-27                                    0.0   \n",
       "2020-12-28                                    0.0   \n",
       "2020-12-29                                    0.0   \n",
       "2020-12-30                                    0.0   \n",
       "2020-12-31                                    0.0   \n",
       "...                                           ...   \n",
       "2021-06-10                                33940.0   \n",
       "2021-06-11                                38271.0   \n",
       "2021-06-12                                25690.0   \n",
       "2021-06-13                                 6016.0   \n",
       "2021-06-14                                 6070.0   \n",
       "\n",
       "            pessoas_vacinadas_parcialmente  \\\n",
       "data                                         \n",
       "2020-12-27                          4963.0   \n",
       "2020-12-28                          7754.0   \n",
       "2020-12-29                         20368.0   \n",
       "2020-12-30                         30543.0   \n",
       "2020-12-31                         32749.0   \n",
       "...                                    ...   \n",
       "2021-06-10                       1972150.0   \n",
       "2021-06-11                       2007997.0   \n",
       "2021-06-12                       2013061.0   \n",
       "2021-06-13                       2072052.0   \n",
       "2021-06-14                       2087682.0   \n",
       "\n",
       "            pessoas_vacinadas_parcialmente_novas  \n",
       "data                                              \n",
       "2020-12-27                                4963.0  \n",
       "2020-12-28                                2791.0  \n",
       "2020-12-29                               12614.0  \n",
       "2020-12-30                               10175.0  \n",
       "2020-12-31                                2206.0  \n",
       "...                                          ...  \n",
       "2021-06-10                               31437.0  \n",
       "2021-06-11                               35847.0  \n",
       "2021-06-12                                5064.0  \n",
       "2021-06-13                               58991.0  \n",
       "2021-06-14                               15630.0  \n",
       "\n",
       "[170 rows x 10 columns]"
      ]
     },
     "execution_count": 36,
     "metadata": {},
     "output_type": "execute_result"
    }
   ],
   "source": [
    "df"
   ]
  },
  {
   "cell_type": "markdown",
   "metadata": {},
   "source": [
    "You should have noticed that this \"confirmados\" column is a cumulative column. Lets take a look at 'confirmados_novos'"
   ]
  },
  {
   "cell_type": "code",
   "execution_count": 24,
   "metadata": {},
   "outputs": [
    {
     "data": {
      "text/plain": [
       "<matplotlib.axes._subplots.AxesSubplot at 0x27325524b38>"
      ]
     },
     "execution_count": 24,
     "metadata": {},
     "output_type": "execute_result"
    },
    {
     "data": {
      "image/png": "[encoded data removed]",
      "text/plain": [
       "<Figure size 432x288 with 1 Axes>"
      ]
     },
     "metadata": {
      "needs_background": "light"
     },
     "output_type": "display_data"
    }
   ],
   "source": [
    "df[[\"confirmados_novos\",\"ativos\"]].plot()"
   ]
  },
  {
   "cell_type": "markdown",
   "metadata": {},
   "source": [
    "The data has different amplitudes, so, in order to help us just understand the correlation better lets normalize it between [0,1] (just divide every value by the maximum value of that collumn)"
   ]
  },
  {
   "cell_type": "code",
   "execution_count": 28,
   "metadata": {},
   "outputs": [
    {
     "data": {
      "text/plain": [
       "<matplotlib.axes._subplots.AxesSubplot at 0x273266424e0>"
      ]
     },
     "execution_count": 28,
     "metadata": {},
     "output_type": "execute_result"
    },
    {
     "data": {
      "image/png": "[encoded data removed]",
      "text/plain": [
       "<Figure size 432x288 with 1 Axes>"
      ]
     },
     "metadata": {
      "needs_background": "light"
     },
     "output_type": "display_data"
    }
   ],
   "source": [
    "df[[\"confirmados_novos\",\"ativos\"]].apply(lambda x: x/x.max()).plot()"
   ]
  },
  {
   "cell_type": "markdown",
   "metadata": {},
   "source": [
    "### New syntax alert! \n",
    "\n",
    "[.apply](https://pandas.pydata.org/pandas-docs/stable/reference/api/pandas.DataFrame.apply.html) -'Apply a function along an axis of the DataFrame.'"
   ]
  },
  {
   "cell_type": "code",
   "execution_count": null,
   "metadata": {},
   "outputs": [],
   "source": [
    "#Simple example with mask, answer a simple and medium question ? What happen at X date ? What dates happen Y ? \n",
    "\n",
    "# Whats the worst week ? - resample"
   ]
  },
  {
   "cell_type": "code",
   "execution_count": null,
   "metadata": {},
   "outputs": [],
   "source": [
    "#TODO Vacc exercise notebook:\n",
    "# Exercises time get vaccines data."
   ]
  },
  {
   "cell_type": "code",
   "execution_count": null,
   "metadata": {},
   "outputs": [],
   "source": [
    "#For future reference\n",
    "df.loc['June 2020':].filter(regex=\"obitos_[a-z][a-z]+\").plot()"
   ]
  },
  {
   "cell_type": "markdown",
   "metadata": {},
   "source": [
    "What was the worst month/week ? \n",
    "\n",
    "Which region had the best month (lowest covid case) ?"
   ]
  },
  {
   "cell_type": "code",
   "execution_count": null,
   "metadata": {},
   "outputs": [],
   "source": [
    "## Resample\n",
    "## Filter\n",
    "## Use vacc data merge with covid"
   ]
  },
  {
   "cell_type": "markdown",
   "metadata": {},
   "source": [
    "### Exercises"
   ]
  },
  {
   "cell_type": "markdown",
   "metadata": {},
   "source": [
    "1. How many people died when r(t) was higher than 1.05? \n",
    "2. Whats the date with the *highest* *new* confirmed cases in *arsnorte*?\n",
    "3. Plot the pct per day of the confirmed by region "
   ]
  },
  {
   "cell_type": "code",
   "execution_count": null,
   "metadata": {},
   "outputs": [],
   "source": []
  },
  {
   "cell_type": "code",
   "execution_count": null,
   "metadata": {},
   "outputs": [],
   "source": []
  },
  {
   "cell_type": "markdown",
   "metadata": {},
   "source": [
    "## Lets study the impact of vaccines"
   ]
  },
  {
   "cell_type": "markdown",
   "metadata": {},
   "source": [
    "We already looked at covid data and you already looked at vaccines data. Now we just have to _merge_ them!"
   ]
  },
  {
   "cell_type": "code",
   "execution_count": 16,
   "metadata": {},
   "outputs": [],
   "source": [
    "#Get vaccines data\n",
    "vacc_data = 'https://raw.githubusercontent.com/dssg-pt/covid19pt-data/master/vacinas.csv'\n",
    "\n",
    "df_vac = pd.read_csv(vacc_data,index_col=0,date_parser=date_parser)"
   ]
  },
  {
   "cell_type": "code",
   "execution_count": 19,
   "metadata": {},
   "outputs": [
    {
     "data": {
      "text/plain": [
       "Index(['doses', 'doses_novas', 'doses1', 'doses1_novas', 'doses2',\n",
       "       'doses2_novas', 'pessoas_vacinadas_completamente',\n",
       "       'pessoas_vacinadas_completamente_novas',\n",
       "       'pessoas_vacinadas_parcialmente',\n",
       "       'pessoas_vacinadas_parcialmente_novas'],\n",
       "      dtype='object')"
      ]
     },
     "execution_count": 19,
     "metadata": {},
     "output_type": "execute_result"
    }
   ],
   "source": [
    "df_vac.columns"
   ]
  },
  {
   "cell_type": "code",
   "execution_count": 18,
   "metadata": {},
   "outputs": [
    {
     "data": {
      "text/plain": [
       "<matplotlib.axes._subplots.AxesSubplot at 0x27325208b70>"
      ]
     },
     "execution_count": 18,
     "metadata": {},
     "output_type": "execute_result"
    },
    {
     "data": {
      "image/png": "[encoded data removed]",
      "text/plain": [
       "<Figure size 432x288 with 1 Axes>"
      ]
     },
     "metadata": {
      "needs_background": "light"
     },
     "output_type": "display_data"
    }
   ],
   "source": [
    "#Normalizar para ver pct\n",
    "df.merge(df_vac,right_index=True,left_index=True)[[\"confirmados_novos\",\"pessoas_vacinadas_completamente_novas\"]].plot()"
   ]
  },
  {
   "cell_type": "markdown",
   "metadata": {},
   "source": [
    "### Exercises\n"
   ]
  },
  {
   "cell_type": "markdown",
   "metadata": {},
   "source": [
    "1. How does the R(t) correlates with vaccines?\n",
    "2. Can we correlate the vaccines impact with covid cases? \n",
    "3. How long does it take to have an impact?"
   ]
  },
  {
   "cell_type": "code",
   "execution_count": null,
   "metadata": {},
   "outputs": [],
   "source": []
  }
 ],
 "metadata": {
  "kernelspec": {
   "display_name": "Python 3",
   "language": "python",
   "name": "python3"
  },
  "language_info": {
   "codemirror_mode": {
    "name": "ipython",
    "version": 3
   },
   "file_extension": ".py",
   "mimetype": "text/x-python",
   "name": "python",
   "nbconvert_exporter": "python",
   "pygments_lexer": "ipython3",
   "version": "3.7.3"
  }
 },
 "nbformat": 4,
 "nbformat_minor": 4
}
